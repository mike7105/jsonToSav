{
 "cells": [
  {
   "cell_type": "code",
   "execution_count": null,
   "metadata": {},
   "outputs": [],
   "source": [
    "import pandas as pd\n",
    "import json\n",
    "import os"
   ]
  },
  {
   "cell_type": "code",
   "execution_count": 7,
   "metadata": {},
   "outputs": [
    {
     "name": "stdout",
     "output_type": "stream",
     "text": [
      "W:\\iMQ\\Projects\\_PROJECTS\\Lenta\\19-089577_Lenta Segmentation\\4. DATA\\Receipts from coding\\JSON_READY\\20519cf_11.json\n",
      "W:\\iMQ\\Projects\\_PROJECTS\\Lenta\\19-089577_Lenta Segmentation\\4. DATA\\Receipts from coding\\JSON_READY\\20519cf_12.json\n",
      "W:\\iMQ\\Projects\\_PROJECTS\\Lenta\\19-089577_Lenta Segmentation\\4. DATA\\Receipts from coding\\JSON_READY\\20598bf_6.json\n",
      "W:\\iMQ\\Projects\\_PROJECTS\\Lenta\\19-089577_Lenta Segmentation\\4. DATA\\Receipts from coding\\JSON_READY\\20602df_13.json\n",
      "W:\\iMQ\\Projects\\_PROJECTS\\Lenta\\19-089577_Lenta Segmentation\\4. DATA\\Receipts from coding\\JSON_READY\\20681d0_12.json\n",
      "W:\\iMQ\\Projects\\_PROJECTS\\Lenta\\19-089577_Lenta Segmentation\\4. DATA\\Receipts from coding\\JSON_READY\\20700d7_2.json\n",
      "W:\\iMQ\\Projects\\_PROJECTS\\Lenta\\19-089577_Lenta Segmentation\\4. DATA\\Receipts from coding\\JSON_READY\\215ad42_5.json\n",
      "W:\\iMQ\\Projects\\_PROJECTS\\Lenta\\19-089577_Lenta Segmentation\\4. DATA\\Receipts from coding\\JSON_READY\\215b4a7_3.json\n",
      "W:\\iMQ\\Projects\\_PROJECTS\\Lenta\\19-089577_Lenta Segmentation\\4. DATA\\Receipts from coding\\JSON_READY\\227b439_15.json\n",
      "W:\\iMQ\\Projects\\_PROJECTS\\Lenta\\19-089577_Lenta Segmentation\\4. DATA\\Receipts from coding\\JSON_READY\\227b439_5.json\n"
     ]
    },
    {
     "data": {
      "text/html": [
       "<div>\n",
       "<style scoped>\n",
       "    .dataframe tbody tr th:only-of-type {\n",
       "        vertical-align: middle;\n",
       "    }\n",
       "\n",
       "    .dataframe tbody tr th {\n",
       "        vertical-align: top;\n",
       "    }\n",
       "\n",
       "    .dataframe thead th {\n",
       "        text-align: right;\n",
       "    }\n",
       "</style>\n",
       "<table border=\"1\" class=\"dataframe\">\n",
       "  <thead>\n",
       "    <tr style=\"text-align: right;\">\n",
       "      <th></th>\n",
       "      <th>date</th>\n",
       "      <th>shopName</th>\n",
       "      <th>shopAddress</th>\n",
       "      <th>totalSum</th>\n",
       "      <th>filename</th>\n",
       "      <th>category</th>\n",
       "      <th>name</th>\n",
       "      <th>quantity</th>\n",
       "      <th>price</th>\n",
       "      <th>sum</th>\n",
       "    </tr>\n",
       "  </thead>\n",
       "  <tbody>\n",
       "    <tr>\n",
       "      <td>0</td>\n",
       "      <td>20.01.20 12:38</td>\n",
       "      <td>Пятёрочка</td>\n",
       "      <td>Белорусская ул. 21 • Тольятти</td>\n",
       "      <td>63.00</td>\n",
       "      <td>20007d0_4</td>\n",
       "      <td>Овощи и фрукты</td>\n",
       "      <td>Бананы 1кг</td>\n",
       "      <td>0.58</td>\n",
       "      <td>67.99</td>\n",
       "      <td>39.43</td>\n",
       "    </tr>\n",
       "    <tr>\n",
       "      <td>1</td>\n",
       "      <td>20.01.20 12:38</td>\n",
       "      <td>Пятёрочка</td>\n",
       "      <td>Белорусская ул. 21 • Тольятти</td>\n",
       "      <td>63.00</td>\n",
       "      <td>20007d0_4</td>\n",
       "      <td>Хлеб</td>\n",
       "      <td>КР.КАР.Батон с мол.нар.250г</td>\n",
       "      <td>1.00</td>\n",
       "      <td>23.99</td>\n",
       "      <td>23.99</td>\n",
       "    </tr>\n",
       "    <tr>\n",
       "      <td>2</td>\n",
       "      <td>21.01.20 12:34</td>\n",
       "      <td>Магнит</td>\n",
       "      <td>ул. 70 лет Октября 90 • Тольятти</td>\n",
       "      <td>147.35</td>\n",
       "      <td>20007d0_5</td>\n",
       "      <td>Бакалея</td>\n",
       "      <td>ЗОЛОТАЯ СЕМЕЧКА Масло подсол. раф</td>\n",
       "      <td>1.00</td>\n",
       "      <td>55.90</td>\n",
       "      <td>55.90</td>\n",
       "    </tr>\n",
       "    <tr>\n",
       "      <td>3</td>\n",
       "      <td>21.01.20 12:34</td>\n",
       "      <td>Магнит</td>\n",
       "      <td>ул. 70 лет Октября 90 • Тольятти</td>\n",
       "      <td>147.35</td>\n",
       "      <td>20007d0_5</td>\n",
       "      <td>Бакалея</td>\n",
       "      <td>MAGGI НА ВТОРОЕ Смесь для кебаба 2</td>\n",
       "      <td>1.00</td>\n",
       "      <td>28.50</td>\n",
       "      <td>28.50</td>\n",
       "    </tr>\n",
       "    <tr>\n",
       "      <td>4</td>\n",
       "      <td>21.01.20 12:34</td>\n",
       "      <td>Магнит</td>\n",
       "      <td>ул. 70 лет Октября 90 • Тольятти</td>\n",
       "      <td>147.35</td>\n",
       "      <td>20007d0_5</td>\n",
       "      <td>Хлеб</td>\n",
       "      <td>ФИТНЕСЛАЙН Хлебцы витамин плюс 100</td>\n",
       "      <td>1.00</td>\n",
       "      <td>32.90</td>\n",
       "      <td>32.90</td>\n",
       "    </tr>\n",
       "  </tbody>\n",
       "</table>\n",
       "</div>"
      ],
      "text/plain": [
       "             date   shopName                       shopAddress  totalSum  \\\n",
       "0  20.01.20 12:38  Пятёрочка     Белорусская ул. 21 • Тольятти     63.00   \n",
       "1  20.01.20 12:38  Пятёрочка     Белорусская ул. 21 • Тольятти     63.00   \n",
       "2  21.01.20 12:34     Магнит  ул. 70 лет Октября 90 • Тольятти    147.35   \n",
       "3  21.01.20 12:34     Магнит  ул. 70 лет Октября 90 • Тольятти    147.35   \n",
       "4  21.01.20 12:34     Магнит  ул. 70 лет Октября 90 • Тольятти    147.35   \n",
       "\n",
       "    filename        category                                name  quantity  \\\n",
       "0  20007d0_4  Овощи и фрукты                          Бананы 1кг      0.58   \n",
       "1  20007d0_4            Хлеб         КР.КАР.Батон с мол.нар.250г      1.00   \n",
       "2  20007d0_5         Бакалея   ЗОЛОТАЯ СЕМЕЧКА Масло подсол. раф      1.00   \n",
       "3  20007d0_5         Бакалея  MAGGI НА ВТОРОЕ Смесь для кебаба 2      1.00   \n",
       "4  20007d0_5            Хлеб  ФИТНЕСЛАЙН Хлебцы витамин плюс 100      1.00   \n",
       "\n",
       "   price    sum  \n",
       "0  67.99  39.43  \n",
       "1  23.99  23.99  \n",
       "2  55.90  55.90  \n",
       "3  28.50  28.50  \n",
       "4  32.90  32.90  "
      ]
     },
     "execution_count": 7,
     "metadata": {},
     "output_type": "execute_result"
    }
   ],
   "source": [
    "# список со всеми данными\n",
    "dAll = []\n",
    "\n",
    "# путь к файлам с json\n",
    "pathJson = r\"W:\\iMQ\\Projects\\_PROJECTS\\Lenta\\19-089577_Lenta Segmentation\\4. DATA\\Receipts from coding\\JSON_READY\"\n",
    "\n",
    "\n",
    "def getData(path: str):\n",
    "    with open(path, \"r\", encoding=\"utf8\") as f:\n",
    "        file_content = os.path.getsize(path)\n",
    "        # Проверяем, не пустой ли файл\n",
    "        if file_content > 0:\n",
    "            dJson = json.load(f)\n",
    "            dJson[\"filename\"] = os.path.splitext(os.path.basename(path))[0]\n",
    "            dJson1 = {k: v for k, v in dJson.items() if k != \"products\"}\n",
    "\n",
    "            for d in dJson[\"products\"]:\n",
    "                dJson1.update(d)\n",
    "                dAll.append(dJson1.copy())\n",
    "        else:\n",
    "            print(path)\n",
    "\n",
    "\n",
    "# прохожусь по всем файлам и собираю json в единый словарь\n",
    "with os.scandir(pathJson) as it:\n",
    "    for entry in it:\n",
    "        if entry.is_file(follow_symlinks=False) and entry.name.endswith(\".json\"):\n",
    "            getData(entry.path)\n",
    "\n",
    "# конвертирую в панду\n",
    "df = pd.DataFrame(dAll)\n",
    "df.head()"
   ]
  },
  {
   "cell_type": "code",
   "execution_count": 8,
   "metadata": {
    "scrolled": true
   },
   "outputs": [
    {
     "data": {
      "text/plain": [
       "date            object\n",
       "shopName        object\n",
       "shopAddress     object\n",
       "totalSum       float64\n",
       "filename        object\n",
       "category        object\n",
       "name            object\n",
       "quantity       float64\n",
       "price          float64\n",
       "sum            float64\n",
       "dtype: object"
      ]
     },
     "execution_count": 8,
     "metadata": {},
     "output_type": "execute_result"
    }
   ],
   "source": [
    "df.dtypes"
   ]
  },
  {
   "cell_type": "code",
   "execution_count": 9,
   "metadata": {},
   "outputs": [],
   "source": [
    "def mem_usage(pandas_obj):\n",
    "    if isinstance(pandas_obj,pd.DataFrame):\n",
    "        usage_b = pandas_obj.memory_usage(deep=True).sum()\n",
    "    else: # предположим, что если это не датафрейм, то серия\n",
    "        usage_b = pandas_obj.memory_usage(deep=True)\n",
    "    usage_mb = usage_b / 1024 ** 2 # преобразуем байты в мегабайты\n",
    "    usage_kb = usage_b / 1024 # преобразуем байты в килобайты\n",
    "    return \"{:03.2f} KB\".format(usage_kb)"
   ]
  },
  {
   "cell_type": "code",
   "execution_count": 10,
   "metadata": {
    "scrolled": true
   },
   "outputs": [
    {
     "data": {
      "text/plain": [
       "'20220.87 KB'"
      ]
     },
     "execution_count": 10,
     "metadata": {},
     "output_type": "execute_result"
    }
   ],
   "source": [
    "mem_usage(df)"
   ]
  },
  {
   "cell_type": "code",
   "execution_count": 12,
   "metadata": {},
   "outputs": [
    {
     "data": {
      "text/plain": [
       "date            object\n",
       "shopName        object\n",
       "shopAddress     object\n",
       "totalSum       float64\n",
       "filename        object\n",
       "category        object\n",
       "name            object\n",
       "quantity         uint8\n",
       "price          float64\n",
       "sum            float64\n",
       "dtype: object"
      ]
     },
     "execution_count": 12,
     "metadata": {},
     "output_type": "execute_result"
    }
   ],
   "source": [
    "# for col in ['quantity','price','sum']:\n",
    "#    df[col] = pd.to_numeric(df[col])\n",
    "df['quantity'] = df['quantity'].astype('uint8')\n",
    "df.dtypes"
   ]
  },
  {
   "cell_type": "code",
   "execution_count": 13,
   "metadata": {},
   "outputs": [
    {
     "data": {
      "text/plain": [
       "'20004.47 KB'"
      ]
     },
     "execution_count": 13,
     "metadata": {},
     "output_type": "execute_result"
    }
   ],
   "source": [
    "mem_usage(df)"
   ]
  },
  {
   "cell_type": "code",
   "execution_count": 14,
   "metadata": {},
   "outputs": [
    {
     "name": "stdout",
     "output_type": "stream",
     "text": [
      "0.12 KB\n",
      "0.12 KB\n"
     ]
    },
    {
     "data": {
      "text/html": [
       "<div>\n",
       "<style scoped>\n",
       "    .dataframe tbody tr th:only-of-type {\n",
       "        vertical-align: middle;\n",
       "    }\n",
       "\n",
       "    .dataframe tbody tr th {\n",
       "        vertical-align: top;\n",
       "    }\n",
       "\n",
       "    .dataframe thead th {\n",
       "        text-align: right;\n",
       "    }\n",
       "</style>\n",
       "<table border=\"1\" class=\"dataframe\">\n",
       "  <thead>\n",
       "    <tr style=\"text-align: right;\">\n",
       "      <th></th>\n",
       "      <th>before</th>\n",
       "      <th>after</th>\n",
       "    </tr>\n",
       "  </thead>\n",
       "  <tbody>\n",
       "  </tbody>\n",
       "</table>\n",
       "</div>"
      ],
      "text/plain": [
       "Empty DataFrame\n",
       "Columns: [before, after]\n",
       "Index: []"
      ]
     },
     "execution_count": 14,
     "metadata": {},
     "output_type": "execute_result"
    }
   ],
   "source": [
    "# выполняем понижающее преобразование \n",
    "# для столбцов типа int\n",
    "df_int = df.select_dtypes(include=['int'])\n",
    "converted_int = df_int.apply(pd.to_numeric,downcast='unsigned')\n",
    "\n",
    "print(mem_usage(df_int))\n",
    "print(mem_usage(converted_int))\n",
    "\n",
    "compare_ints = pd.concat([df_int.dtypes,converted_int.dtypes],axis=1)\n",
    "compare_ints.columns = ['before','after']\n",
    "compare_ints.apply(pd.Series.value_counts)"
   ]
  },
  {
   "cell_type": "code",
   "execution_count": 15,
   "metadata": {},
   "outputs": [
    {
     "name": "stdout",
     "output_type": "stream",
     "text": [
      "742.04 KB\n",
      "371.08 KB\n"
     ]
    },
    {
     "data": {
      "text/html": [
       "<div>\n",
       "<style scoped>\n",
       "    .dataframe tbody tr th:only-of-type {\n",
       "        vertical-align: middle;\n",
       "    }\n",
       "\n",
       "    .dataframe tbody tr th {\n",
       "        vertical-align: top;\n",
       "    }\n",
       "\n",
       "    .dataframe thead th {\n",
       "        text-align: right;\n",
       "    }\n",
       "</style>\n",
       "<table border=\"1\" class=\"dataframe\">\n",
       "  <thead>\n",
       "    <tr style=\"text-align: right;\">\n",
       "      <th></th>\n",
       "      <th>before</th>\n",
       "      <th>after</th>\n",
       "    </tr>\n",
       "  </thead>\n",
       "  <tbody>\n",
       "    <tr>\n",
       "      <td>float32</td>\n",
       "      <td>NaN</td>\n",
       "      <td>3.0</td>\n",
       "    </tr>\n",
       "    <tr>\n",
       "      <td>float64</td>\n",
       "      <td>3.0</td>\n",
       "      <td>NaN</td>\n",
       "    </tr>\n",
       "  </tbody>\n",
       "</table>\n",
       "</div>"
      ],
      "text/plain": [
       "         before  after\n",
       "float32     NaN    3.0\n",
       "float64     3.0    NaN"
      ]
     },
     "execution_count": 15,
     "metadata": {},
     "output_type": "execute_result"
    }
   ],
   "source": [
    "# выполняем понижающее преобразование \n",
    "# для столбцов типа float\n",
    "df_float = df.select_dtypes(include=['float'])\n",
    "converted_float = df_float.apply(pd.to_numeric,downcast='float')\n",
    "\n",
    "print(mem_usage(df_float))\n",
    "print(mem_usage(converted_float))\n",
    "\n",
    "compare_floats = pd.concat([df_float.dtypes,converted_float.dtypes],axis=1)\n",
    "compare_floats.columns = ['before','after']\n",
    "compare_floats.apply(pd.Series.value_counts)"
   ]
  },
  {
   "cell_type": "code",
   "execution_count": 16,
   "metadata": {},
   "outputs": [
    {
     "name": "stdout",
     "output_type": "stream",
     "text": [
      "20004.47 KB\n",
      "19633.52 KB\n"
     ]
    },
    {
     "data": {
      "text/plain": [
       "date            object\n",
       "shopName        object\n",
       "shopAddress     object\n",
       "totalSum       float32\n",
       "filename        object\n",
       "category        object\n",
       "name            object\n",
       "quantity         uint8\n",
       "price          float32\n",
       "sum            float32\n",
       "dtype: object"
      ]
     },
     "execution_count": 16,
     "metadata": {},
     "output_type": "execute_result"
    }
   ],
   "source": [
    "# создаем копию исходного датафрейма\n",
    "optimized_df = df.copy()\n",
    "\n",
    "# заменяем исходные числовые столбцы\n",
    "# оптимизированными\n",
    "optimized_df[converted_int.columns] = converted_int\n",
    "optimized_df[converted_float.columns] = converted_float\n",
    "\n",
    "# смотрим использование памяти\n",
    "print(mem_usage(df))\n",
    "print(mem_usage(optimized_df))\n",
    "optimized_df.dtypes\n"
   ]
  },
  {
   "cell_type": "code",
   "execution_count": 17,
   "metadata": {},
   "outputs": [
    {
     "data": {
      "text/html": [
       "<div>\n",
       "<style scoped>\n",
       "    .dataframe tbody tr th:only-of-type {\n",
       "        vertical-align: middle;\n",
       "    }\n",
       "\n",
       "    .dataframe tbody tr th {\n",
       "        vertical-align: top;\n",
       "    }\n",
       "\n",
       "    .dataframe thead th {\n",
       "        text-align: right;\n",
       "    }\n",
       "</style>\n",
       "<table border=\"1\" class=\"dataframe\">\n",
       "  <thead>\n",
       "    <tr style=\"text-align: right;\">\n",
       "      <th></th>\n",
       "      <th>totalSum</th>\n",
       "      <th>quantity</th>\n",
       "      <th>price</th>\n",
       "      <th>sum</th>\n",
       "    </tr>\n",
       "  </thead>\n",
       "  <tbody>\n",
       "    <tr>\n",
       "      <td>count</td>\n",
       "      <td>31655.000000</td>\n",
       "      <td>31655.000000</td>\n",
       "      <td>31655.000000</td>\n",
       "      <td>31655.000000</td>\n",
       "    </tr>\n",
       "    <tr>\n",
       "      <td>mean</td>\n",
       "      <td>1275.639526</td>\n",
       "      <td>1.155078</td>\n",
       "      <td>90.306908</td>\n",
       "      <td>88.040207</td>\n",
       "    </tr>\n",
       "    <tr>\n",
       "      <td>std</td>\n",
       "      <td>2461.645996</td>\n",
       "      <td>1.980649</td>\n",
       "      <td>211.228333</td>\n",
       "      <td>214.827789</td>\n",
       "    </tr>\n",
       "    <tr>\n",
       "      <td>min</td>\n",
       "      <td>0.000000</td>\n",
       "      <td>0.000000</td>\n",
       "      <td>0.000000</td>\n",
       "      <td>0.000000</td>\n",
       "    </tr>\n",
       "    <tr>\n",
       "      <td>25%</td>\n",
       "      <td>336.824997</td>\n",
       "      <td>1.000000</td>\n",
       "      <td>26.900000</td>\n",
       "      <td>29.900000</td>\n",
       "    </tr>\n",
       "    <tr>\n",
       "      <td>50%</td>\n",
       "      <td>643.250000</td>\n",
       "      <td>1.000000</td>\n",
       "      <td>49.990002</td>\n",
       "      <td>52.000000</td>\n",
       "    </tr>\n",
       "    <tr>\n",
       "      <td>75%</td>\n",
       "      <td>1320.069946</td>\n",
       "      <td>1.000000</td>\n",
       "      <td>99.000000</td>\n",
       "      <td>99.000000</td>\n",
       "    </tr>\n",
       "    <tr>\n",
       "      <td>max</td>\n",
       "      <td>30660.000000</td>\n",
       "      <td>200.000000</td>\n",
       "      <td>13999.000000</td>\n",
       "      <td>13999.000000</td>\n",
       "    </tr>\n",
       "  </tbody>\n",
       "</table>\n",
       "</div>"
      ],
      "text/plain": [
       "           totalSum      quantity         price           sum\n",
       "count  31655.000000  31655.000000  31655.000000  31655.000000\n",
       "mean    1275.639526      1.155078     90.306908     88.040207\n",
       "std     2461.645996      1.980649    211.228333    214.827789\n",
       "min        0.000000      0.000000      0.000000      0.000000\n",
       "25%      336.824997      1.000000     26.900000     29.900000\n",
       "50%      643.250000      1.000000     49.990002     52.000000\n",
       "75%     1320.069946      1.000000     99.000000     99.000000\n",
       "max    30660.000000    200.000000  13999.000000  13999.000000"
      ]
     },
     "execution_count": 17,
     "metadata": {},
     "output_type": "execute_result"
    }
   ],
   "source": [
    "optimized_df.describe()"
   ]
  },
  {
   "cell_type": "code",
   "execution_count": 18,
   "metadata": {},
   "outputs": [
    {
     "data": {
      "text/html": [
       "<div>\n",
       "<style scoped>\n",
       "    .dataframe tbody tr th:only-of-type {\n",
       "        vertical-align: middle;\n",
       "    }\n",
       "\n",
       "    .dataframe tbody tr th {\n",
       "        vertical-align: top;\n",
       "    }\n",
       "\n",
       "    .dataframe thead th {\n",
       "        text-align: right;\n",
       "    }\n",
       "</style>\n",
       "<table border=\"1\" class=\"dataframe\">\n",
       "  <thead>\n",
       "    <tr style=\"text-align: right;\">\n",
       "      <th></th>\n",
       "      <th>date</th>\n",
       "      <th>shopName</th>\n",
       "      <th>shopAddress</th>\n",
       "      <th>filename</th>\n",
       "      <th>category</th>\n",
       "      <th>name</th>\n",
       "    </tr>\n",
       "  </thead>\n",
       "  <tbody>\n",
       "    <tr>\n",
       "      <td>count</td>\n",
       "      <td>31655</td>\n",
       "      <td>31655</td>\n",
       "      <td>31655</td>\n",
       "      <td>31655</td>\n",
       "      <td>31655</td>\n",
       "      <td>31655</td>\n",
       "    </tr>\n",
       "    <tr>\n",
       "      <td>unique</td>\n",
       "      <td>3870</td>\n",
       "      <td>1045</td>\n",
       "      <td>2954</td>\n",
       "      <td>4884</td>\n",
       "      <td>28</td>\n",
       "      <td>20266</td>\n",
       "    </tr>\n",
       "    <tr>\n",
       "      <td>top</td>\n",
       "      <td>25.01.20 15:02</td>\n",
       "      <td>Пятёрочка</td>\n",
       "      <td>•</td>\n",
       "      <td>227d9e5_16</td>\n",
       "      <td>Овощи и фрукты</td>\n",
       "      <td>Пакет ПЯТЕРОЧКА 65х40см</td>\n",
       "    </tr>\n",
       "    <tr>\n",
       "      <td>freq</td>\n",
       "      <td>165</td>\n",
       "      <td>5038</td>\n",
       "      <td>446</td>\n",
       "      <td>158</td>\n",
       "      <td>4274</td>\n",
       "      <td>220</td>\n",
       "    </tr>\n",
       "  </tbody>\n",
       "</table>\n",
       "</div>"
      ],
      "text/plain": [
       "                  date   shopName shopAddress    filename        category  \\\n",
       "count            31655      31655       31655       31655           31655   \n",
       "unique            3870       1045        2954        4884              28   \n",
       "top     25.01.20 15:02  Пятёрочка          •   227d9e5_16  Овощи и фрукты   \n",
       "freq               165       5038         446         158            4274   \n",
       "\n",
       "                           name  \n",
       "count                     31655  \n",
       "unique                    20266  \n",
       "top     Пакет ПЯТЕРОЧКА 65х40см  \n",
       "freq                        220  "
      ]
     },
     "execution_count": 18,
     "metadata": {},
     "output_type": "execute_result"
    }
   ],
   "source": [
    "# смотрим количество уникальных значений\n",
    "# по каждому столбцу типа object\n",
    "df_obj = optimized_df.select_dtypes(include=['object']).copy()\n",
    "df_obj.describe()"
   ]
  },
  {
   "cell_type": "code",
   "execution_count": 19,
   "metadata": {},
   "outputs": [],
   "source": [
    "converted_obj = pd.DataFrame()\n",
    "\n",
    "# пишем цикл, которой перебирает каждый столбец object, \n",
    "# проверяет его на соответствие заданному порогу \n",
    "# (количество уникальных значений должно быть меньше 50% \n",
    "# от общего количества значений), и если столбец \n",
    "# удовлетворяет порогу, преобразовывает его в тип category\n",
    "for col in df_obj.columns:\n",
    "    num_unique_values = len(df_obj[col].unique())\n",
    "    num_total_values = len(df_obj[col])\n",
    "    if num_unique_values / num_total_values < 0.5:\n",
    "        converted_obj.loc[:,col] = df_obj[col].astype('category')\n",
    "    else:\n",
    "        converted_obj.loc[:,col] = df_obj[col]"
   ]
  },
  {
   "cell_type": "code",
   "execution_count": 20,
   "metadata": {},
   "outputs": [
    {
     "name": "stdout",
     "output_type": "stream",
     "text": [
      "23707.11 KB\n",
      "7982.62 KB\n"
     ]
    },
    {
     "data": {
      "text/html": [
       "<div>\n",
       "<style scoped>\n",
       "    .dataframe tbody tr th:only-of-type {\n",
       "        vertical-align: middle;\n",
       "    }\n",
       "\n",
       "    .dataframe tbody tr th {\n",
       "        vertical-align: top;\n",
       "    }\n",
       "\n",
       "    .dataframe thead th {\n",
       "        text-align: right;\n",
       "    }\n",
       "</style>\n",
       "<table border=\"1\" class=\"dataframe\">\n",
       "  <thead>\n",
       "    <tr style=\"text-align: right;\">\n",
       "      <th></th>\n",
       "      <th>before</th>\n",
       "      <th>after</th>\n",
       "    </tr>\n",
       "  </thead>\n",
       "  <tbody>\n",
       "    <tr>\n",
       "      <td>object</td>\n",
       "      <td>6.0</td>\n",
       "      <td>1</td>\n",
       "    </tr>\n",
       "    <tr>\n",
       "      <td>category</td>\n",
       "      <td>NaN</td>\n",
       "      <td>1</td>\n",
       "    </tr>\n",
       "    <tr>\n",
       "      <td>category</td>\n",
       "      <td>NaN</td>\n",
       "      <td>1</td>\n",
       "    </tr>\n",
       "    <tr>\n",
       "      <td>category</td>\n",
       "      <td>NaN</td>\n",
       "      <td>1</td>\n",
       "    </tr>\n",
       "    <tr>\n",
       "      <td>category</td>\n",
       "      <td>NaN</td>\n",
       "      <td>1</td>\n",
       "    </tr>\n",
       "    <tr>\n",
       "      <td>category</td>\n",
       "      <td>NaN</td>\n",
       "      <td>1</td>\n",
       "    </tr>\n",
       "  </tbody>\n",
       "</table>\n",
       "</div>"
      ],
      "text/plain": [
       "          before  after\n",
       "object       6.0      1\n",
       "category     NaN      1\n",
       "category     NaN      1\n",
       "category     NaN      1\n",
       "category     NaN      1\n",
       "category     NaN      1"
      ]
     },
     "execution_count": 20,
     "metadata": {},
     "output_type": "execute_result"
    }
   ],
   "source": [
    "# снова применяем функцию mem_usage, смотрим,\n",
    "# сколько памяти занимают все столбцы типа object\n",
    "# до и после преобразования в тип category\n",
    "print(mem_usage(df_obj))\n",
    "print(mem_usage(converted_obj))\n",
    "\n",
    "compare_obj = pd.concat([df_obj.dtypes,converted_obj.dtypes],axis=1)\n",
    "compare_obj.columns = ['before','after']\n",
    "compare_obj.apply(pd.Series.value_counts)"
   ]
  },
  {
   "cell_type": "code",
   "execution_count": 21,
   "metadata": {},
   "outputs": [
    {
     "name": "stdout",
     "output_type": "stream",
     "text": [
      "date           category\n",
      "shopName       category\n",
      "shopAddress    category\n",
      "totalSum        float32\n",
      "filename       category\n",
      "category       category\n",
      "name             object\n",
      "quantity          uint8\n",
      "price           float32\n",
      "sum             float32\n",
      "dtype: object\n",
      "8384.49 KB\n"
     ]
    }
   ],
   "source": [
    "# смотрим, сколько памяти использует датафрейм\n",
    "# после оптимизации типов\n",
    "optimized_df[converted_obj.columns] = converted_obj\n",
    "print(optimized_df.dtypes)\n",
    "print(mem_usage(optimized_df))"
   ]
  },
  {
   "cell_type": "code",
   "execution_count": 22,
   "metadata": {},
   "outputs": [
    {
     "name": "stdout",
     "output_type": "stream",
     "text": [
      "490.28 KB\n"
     ]
    },
    {
     "data": {
      "text/plain": [
       "0    20.01.20 12:38\n",
       "1    20.01.20 12:38\n",
       "2    21.01.20 12:34\n",
       "3    21.01.20 12:34\n",
       "4    21.01.20 12:34\n",
       "Name: date, dtype: category\n",
       "Categories (3870, object): [03.01.20 11:27, 03.01.20 12:42, 03.01.20 18:38, 04.01.20 14:53, ..., 28.01.20 15:40, 28.01.20 15:48, 28.12.19 14:14, 31.12.19 17:15]"
      ]
     },
     "execution_count": 22,
     "metadata": {},
     "output_type": "execute_result"
    }
   ],
   "source": [
    "# смотрим, сколько памяти использует\n",
    "# столбец date\n",
    "date = optimized_df.date\n",
    "print(mem_usage(date))\n",
    "date.head()"
   ]
  },
  {
   "cell_type": "code",
   "execution_count": 23,
   "metadata": {},
   "outputs": [
    {
     "name": "stdout",
     "output_type": "stream",
     "text": [
      "8146.39 KB\n"
     ]
    }
   ],
   "source": [
    "# преобразуем столбец \n",
    "# date в тип datetime \n",
    "optimized_df['date'] = pd.to_datetime(date,format='%d.%m.%y %H:%M')\n",
    "\n",
    "# смотрим, сколько памяти использует\n",
    "# столбец date\n",
    "print(mem_usage(optimized_df))"
   ]
  },
  {
   "cell_type": "code",
   "execution_count": 24,
   "metadata": {},
   "outputs": [
    {
     "name": "stdout",
     "output_type": "stream",
     "text": [
      "{   'category': 'category',\n",
      "    'filename': 'category',\n",
      "    'name': 'object',\n",
      "    'price': 'float32',\n",
      "    'quantity': 'uint8',\n",
      "    'shopAddress': 'category',\n",
      "    'shopName': 'category',\n",
      "    'sum': 'float32',\n",
      "    'totalSum': 'float32'}\n"
     ]
    }
   ],
   "source": [
    "# создаем словарь, в котором ключами будут имена\n",
    "# столбцов, а значениями - типы столбцов\n",
    "dtypes = optimized_df.drop('date',axis=1).dtypes\n",
    "\n",
    "dtypes_col = dtypes.index\n",
    "dtypes_type = [i.name for i in dtypes.values]\n",
    "\n",
    "column_types = dict(zip(dtypes_col, dtypes_type))\n",
    "\n",
    "import pprint\n",
    "pp = pp = pprint.PrettyPrinter(indent=4)\n",
    "pp.pprint(column_types)"
   ]
  },
  {
   "cell_type": "code",
   "execution_count": 25,
   "metadata": {},
   "outputs": [
    {
     "name": "stdout",
     "output_type": "stream",
     "text": [
      "24479.94 KB\n",
      "8146.39 KB\n"
     ]
    }
   ],
   "source": [
    "print(mem_usage(df))\n",
    "print(mem_usage(optimized_df))"
   ]
  },
  {
   "cell_type": "code",
   "execution_count": 26,
   "metadata": {},
   "outputs": [
    {
     "data": {
      "text/plain": [
       "date           category\n",
       "shopName       category\n",
       "shopAddress    category\n",
       "totalSum        float32\n",
       "filename       category\n",
       "category       category\n",
       "name             object\n",
       "quantity          uint8\n",
       "price           float32\n",
       "sum             float32\n",
       "dtype: object"
      ]
     },
     "execution_count": 26,
     "metadata": {},
     "output_type": "execute_result"
    }
   ],
   "source": [
    "optimized_df.dtypes"
   ]
  },
  {
   "cell_type": "code",
   "execution_count": null,
   "metadata": {},
   "outputs": [],
   "source": [
    "import pyreadstat"
   ]
  },
  {
   "cell_type": "code",
   "execution_count": null,
   "metadata": {},
   "outputs": [],
   "source": [
    "pyreadstat.write_sav(optimized_df.drop([\"name\",\"date\"], axis=1), r\"O:\\Progs\\Python\\jsonToSav\\data\\spss1.sav\")"
   ]
  },
  {
   "cell_type": "code",
   "execution_count": null,
   "metadata": {},
   "outputs": [],
   "source": [
    "pyreadstat.write_sav(df, r\"O:\\Progs\\Python\\jsonToSav\\data\\spss1_df.sav\")"
   ]
  },
  {
   "cell_type": "code",
   "execution_count": null,
   "metadata": {},
   "outputs": [],
   "source": [
    "import savReaderWriter as srw\n",
    "# records = optimized_df.drop([\"name\",\"date\"], axis=1).values.tolist()\n",
    "records = optimized_df.values.tolist()"
   ]
  },
  {
   "cell_type": "code",
   "execution_count": null,
   "metadata": {},
   "outputs": [],
   "source": [
    "varTypes = {}\n",
    "for col in optimized_df.columns:\n",
    "    if str(optimized_df[col].dtype) == 'object':\n",
    "        varTypes[col] = 1024\n",
    "    elif 'date' in str(optimized_df[col].dtype):\n",
    "        varTypes[col] = 0\n",
    "    else:\n",
    "        varTypes[col] = 0\n",
    "\n",
    "varTypes\n",
    "# del varTypes['name']\n",
    "# del varTypes['date']\n",
    "#varTypes"
   ]
  },
  {
   "cell_type": "code",
   "execution_count": null,
   "metadata": {},
   "outputs": [],
   "source": [
    "colsSave = list(optimized_df.columns)\n",
    "colsSave\n",
    "# colsSave.remove('name')\n",
    "# colsSave.remove('date')\n",
    "# colsSave"
   ]
  },
  {
   "cell_type": "code",
   "execution_count": null,
   "metadata": {},
   "outputs": [],
   "source": [
    "with srw.SavWriter(r\"O:\\Progs\\Python\\jsonToSav\\data\\spss.sav\", colsSave, varTypes) as writer:\n",
    "    for record in records:\n",
    "        writer.writerow(record)"
   ]
  },
  {
   "cell_type": "code",
   "execution_count": null,
   "metadata": {},
   "outputs": [],
   "source": [
    "vals = {}\n",
    "for col in optimized_df.columns:\n",
    "    if str(optimized_df[col].dtype) == 'category':\n",
    "        optimized_df[col].cat.categories = [x[:30] for x in optimized_df[col].cat.categories]\n",
    "        vals[col] = {i:x[:30] for i, x in enumerate(optimized_df[col].cat.categories)}\n",
    "vals"
   ]
  },
  {
   "cell_type": "code",
   "execution_count": null,
   "metadata": {},
   "outputs": [],
   "source": [
    "optimized_df.to_csv(r\"O:\\Progs\\Python\\jsonToSav\\data\\odf.txt\", sep=\"\\t\", index=False)"
   ]
  },
  {
   "cell_type": "code",
   "execution_count": null,
   "metadata": {},
   "outputs": [],
   "source": [
    "s = \"02.08.18 14:13\"\n",
    "s"
   ]
  },
  {
   "cell_type": "code",
   "execution_count": null,
   "metadata": {},
   "outputs": [],
   "source": [
    "b = s.encode()\n",
    "b"
   ]
  },
  {
   "cell_type": "code",
   "execution_count": null,
   "metadata": {},
   "outputs": [],
   "source": [
    "optimized_df['dateB'] = optimized_df['date'].astype('str')\n",
    "optimized_df.head()"
   ]
  },
  {
   "cell_type": "code",
   "execution_count": null,
   "metadata": {},
   "outputs": [],
   "source": [
    "optimized_df.dtypes"
   ]
  }
 ],
 "metadata": {
  "kernelspec": {
   "display_name": "Python 3",
   "language": "python",
   "name": "python3"
  },
  "language_info": {
   "codemirror_mode": {
    "name": "ipython",
    "version": 3
   },
   "file_extension": ".py",
   "mimetype": "text/x-python",
   "name": "python",
   "nbconvert_exporter": "python",
   "pygments_lexer": "ipython3",
   "version": "3.7.4"
  }
 },
 "nbformat": 4,
 "nbformat_minor": 2
}
