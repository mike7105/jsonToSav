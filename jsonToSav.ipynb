{
 "cells": [
  {
   "cell_type": "code",
   "execution_count": 1,
   "metadata": {},
   "outputs": [],
   "source": [
    "import pandas as pd\n",
    "import json\n",
    "import os"
   ]
  },
  {
   "cell_type": "code",
   "execution_count": 2,
   "metadata": {},
   "outputs": [
    {
     "data": {
      "text/html": [
       "<div>\n",
       "<style scoped>\n",
       "    .dataframe tbody tr th:only-of-type {\n",
       "        vertical-align: middle;\n",
       "    }\n",
       "\n",
       "    .dataframe tbody tr th {\n",
       "        vertical-align: top;\n",
       "    }\n",
       "\n",
       "    .dataframe thead th {\n",
       "        text-align: right;\n",
       "    }\n",
       "</style>\n",
       "<table border=\"1\" class=\"dataframe\">\n",
       "  <thead>\n",
       "    <tr style=\"text-align: right;\">\n",
       "      <th></th>\n",
       "      <th>date</th>\n",
       "      <th>shopAddress</th>\n",
       "      <th>shopName</th>\n",
       "      <th>totalSum</th>\n",
       "      <th>filename</th>\n",
       "      <th>category</th>\n",
       "      <th>name</th>\n",
       "      <th>quantity</th>\n",
       "      <th>price</th>\n",
       "      <th>sum</th>\n",
       "    </tr>\n",
       "  </thead>\n",
       "  <tbody>\n",
       "    <tr>\n",
       "      <th>0</th>\n",
       "      <td>02.08.18 14:13</td>\n",
       "      <td>Большая Черемушкинская ул. 1 • Юго-Западный ад...</td>\n",
       "      <td>Лента</td>\n",
       "      <td>4620.0</td>\n",
       "      <td>t1</td>\n",
       "      <td>Дети</td>\n",
       "      <td>Д/п вода ФРУТОНЯНЯ детск пит артез 330мл</td>\n",
       "      <td>4.0</td>\n",
       "      <td>21.99</td>\n",
       "      <td>87.96</td>\n",
       "    </tr>\n",
       "    <tr>\n",
       "      <th>1</th>\n",
       "      <td>02.08.18 14:13</td>\n",
       "      <td>Большая Черемушкинская ул. 1 • Юго-Западный ад...</td>\n",
       "      <td>Лента</td>\n",
       "      <td>4620.0</td>\n",
       "      <td>t1</td>\n",
       "      <td>Дети</td>\n",
       "      <td>Ж/МЫЛО AQA BABY Д/МАЛЫША С ДОЗАТ 300МЛ</td>\n",
       "      <td>1.0</td>\n",
       "      <td>94.99</td>\n",
       "      <td>94.99</td>\n",
       "    </tr>\n",
       "    <tr>\n",
       "      <th>2</th>\n",
       "      <td>02.08.18 14:13</td>\n",
       "      <td>Большая Черемушкинская ул. 1 • Юго-Западный ад...</td>\n",
       "      <td>Лента</td>\n",
       "      <td>4620.0</td>\n",
       "      <td>t1</td>\n",
       "      <td>Дети</td>\n",
       "      <td>Кефир АГУША детский 3,2% ТВА 204г</td>\n",
       "      <td>3.0</td>\n",
       "      <td>23.99</td>\n",
       "      <td>71.97</td>\n",
       "    </tr>\n",
       "    <tr>\n",
       "      <th>3</th>\n",
       "      <td>02.08.18 14:13</td>\n",
       "      <td>Большая Черемушкинская ул. 1 • Юго-Западный ад...</td>\n",
       "      <td>Лента</td>\n",
       "      <td>4620.0</td>\n",
       "      <td>t1</td>\n",
       "      <td>Дети</td>\n",
       "      <td>Д/п пюре ФРУТОНЯНЯ говяд с греч/мор100г</td>\n",
       "      <td>3.0</td>\n",
       "      <td>45.89</td>\n",
       "      <td>137.67</td>\n",
       "    </tr>\n",
       "    <tr>\n",
       "      <th>4</th>\n",
       "      <td>02.08.18 14:13</td>\n",
       "      <td>Большая Черемушкинская ул. 1 • Юго-Западный ад...</td>\n",
       "      <td>Лента</td>\n",
       "      <td>4620.0</td>\n",
       "      <td>t1</td>\n",
       "      <td>Дети</td>\n",
       "      <td>Йогурт АГУША пит натурал 3,1% бут 200г</td>\n",
       "      <td>8.0</td>\n",
       "      <td>36.79</td>\n",
       "      <td>294.32</td>\n",
       "    </tr>\n",
       "  </tbody>\n",
       "</table>\n",
       "</div>"
      ],
      "text/plain": [
       "             date                                        shopAddress shopName  \\\n",
       "0  02.08.18 14:13  Большая Черемушкинская ул. 1 • Юго-Западный ад...    Лента   \n",
       "1  02.08.18 14:13  Большая Черемушкинская ул. 1 • Юго-Западный ад...    Лента   \n",
       "2  02.08.18 14:13  Большая Черемушкинская ул. 1 • Юго-Западный ад...    Лента   \n",
       "3  02.08.18 14:13  Большая Черемушкинская ул. 1 • Юго-Западный ад...    Лента   \n",
       "4  02.08.18 14:13  Большая Черемушкинская ул. 1 • Юго-Западный ад...    Лента   \n",
       "\n",
       "   totalSum filename category                                      name  \\\n",
       "0    4620.0       t1     Дети  Д/п вода ФРУТОНЯНЯ детск пит артез 330мл   \n",
       "1    4620.0       t1     Дети    Ж/МЫЛО AQA BABY Д/МАЛЫША С ДОЗАТ 300МЛ   \n",
       "2    4620.0       t1     Дети         Кефир АГУША детский 3,2% ТВА 204г   \n",
       "3    4620.0       t1     Дети   Д/п пюре ФРУТОНЯНЯ говяд с греч/мор100г   \n",
       "4    4620.0       t1     Дети    Йогурт АГУША пит натурал 3,1% бут 200г   \n",
       "\n",
       "   quantity  price     sum  \n",
       "0       4.0  21.99   87.96  \n",
       "1       1.0  94.99   94.99  \n",
       "2       3.0  23.99   71.97  \n",
       "3       3.0  45.89  137.67  \n",
       "4       8.0  36.79  294.32  "
      ]
     },
     "execution_count": 2,
     "metadata": {},
     "output_type": "execute_result"
    }
   ],
   "source": [
    "# список со всеми данными\n",
    "dAll = []\n",
    "\n",
    "# путь к файлам с json\n",
    "pathJson = r\"O:\\Progs\\Python\\jsonToSav\\data\"\n",
    "\n",
    "\n",
    "def getData(path: str):\n",
    "    dJson = {}\n",
    "    with open(path, \"r\", encoding=\"utf8\") as f:\n",
    "        dJson = json.load(f)\n",
    "        dJson[\"filename\"] = os.path.splitext(os.path.basename(path))[0]\n",
    "        dJson1 = {k: v for k, v in dJson.items() if k != \"products\"}\n",
    "\n",
    "        for d in dJson[\"products\"]:\n",
    "            dJson1.update(d)\n",
    "            dAll.append(dJson1.copy())\n",
    "\n",
    "\n",
    "# прохожусь по всем файлам и собираю json в единый словарь\n",
    "with os.scandir(pathJson) as it:\n",
    "    for entry in it:\n",
    "        if entry.is_file(follow_symlinks=False) and entry.name.endswith(\".json\"):\n",
    "            getData(entry.path)\n",
    "\n",
    "# конвертирую в панду\n",
    "df = pd.DataFrame(dAll)\n",
    "df.head()"
   ]
  },
  {
   "cell_type": "code",
   "execution_count": 3,
   "metadata": {
    "scrolled": true
   },
   "outputs": [
    {
     "data": {
      "text/plain": [
       "date            object\n",
       "shopAddress     object\n",
       "shopName        object\n",
       "totalSum       float64\n",
       "filename        object\n",
       "category        object\n",
       "name            object\n",
       "quantity       float64\n",
       "price          float64\n",
       "sum            float64\n",
       "dtype: object"
      ]
     },
     "execution_count": 3,
     "metadata": {},
     "output_type": "execute_result"
    }
   ],
   "source": [
    "df.dtypes"
   ]
  },
  {
   "cell_type": "code",
   "execution_count": 4,
   "metadata": {},
   "outputs": [],
   "source": [
    "def mem_usage(pandas_obj):\n",
    "    if isinstance(pandas_obj,pd.DataFrame):\n",
    "        usage_b = pandas_obj.memory_usage(deep=True).sum()\n",
    "    else: # предположим, что если это не датафрейм, то серия\n",
    "        usage_b = pandas_obj.memory_usage(deep=True)\n",
    "    usage_mb = usage_b / 1024 ** 2 # преобразуем байты в мегабайты\n",
    "    usage_kb = usage_b / 1024 # преобразуем байты в килобайты\n",
    "    return \"{:03.2f} KB\".format(usage_kb)"
   ]
  },
  {
   "cell_type": "code",
   "execution_count": 5,
   "metadata": {
    "scrolled": true
   },
   "outputs": [
    {
     "data": {
      "text/plain": [
       "'26.11 KB'"
      ]
     },
     "execution_count": 5,
     "metadata": {},
     "output_type": "execute_result"
    }
   ],
   "source": [
    "mem_usage(df)"
   ]
  },
  {
   "cell_type": "code",
   "execution_count": 6,
   "metadata": {},
   "outputs": [
    {
     "data": {
      "text/plain": [
       "date            object\n",
       "shopAddress     object\n",
       "shopName        object\n",
       "totalSum       float64\n",
       "filename        object\n",
       "category        object\n",
       "name            object\n",
       "quantity         int32\n",
       "price          float64\n",
       "sum            float64\n",
       "dtype: object"
      ]
     },
     "execution_count": 6,
     "metadata": {},
     "output_type": "execute_result"
    }
   ],
   "source": [
    "# for col in ['quantity','price','sum']:\n",
    "#    df[col] = pd.to_numeric(df[col])\n",
    "df['quantity'] = df['quantity'].astype('int')\n",
    "df.dtypes"
   ]
  },
  {
   "cell_type": "code",
   "execution_count": 7,
   "metadata": {},
   "outputs": [
    {
     "data": {
      "text/plain": [
       "'25.96 KB'"
      ]
     },
     "execution_count": 7,
     "metadata": {},
     "output_type": "execute_result"
    }
   ],
   "source": [
    "mem_usage(df)"
   ]
  },
  {
   "cell_type": "code",
   "execution_count": 8,
   "metadata": {},
   "outputs": [
    {
     "name": "stdout",
     "output_type": "stream",
     "text": [
      "0.27 KB\n",
      "0.16 KB\n"
     ]
    },
    {
     "data": {
      "text/html": [
       "<div>\n",
       "<style scoped>\n",
       "    .dataframe tbody tr th:only-of-type {\n",
       "        vertical-align: middle;\n",
       "    }\n",
       "\n",
       "    .dataframe tbody tr th {\n",
       "        vertical-align: top;\n",
       "    }\n",
       "\n",
       "    .dataframe thead th {\n",
       "        text-align: right;\n",
       "    }\n",
       "</style>\n",
       "<table border=\"1\" class=\"dataframe\">\n",
       "  <thead>\n",
       "    <tr style=\"text-align: right;\">\n",
       "      <th></th>\n",
       "      <th>before</th>\n",
       "      <th>after</th>\n",
       "    </tr>\n",
       "  </thead>\n",
       "  <tbody>\n",
       "    <tr>\n",
       "      <th>uint8</th>\n",
       "      <td>NaN</td>\n",
       "      <td>1.0</td>\n",
       "    </tr>\n",
       "    <tr>\n",
       "      <th>int32</th>\n",
       "      <td>1.0</td>\n",
       "      <td>NaN</td>\n",
       "    </tr>\n",
       "  </tbody>\n",
       "</table>\n",
       "</div>"
      ],
      "text/plain": [
       "       before  after\n",
       "uint8     NaN    1.0\n",
       "int32     1.0    NaN"
      ]
     },
     "execution_count": 8,
     "metadata": {},
     "output_type": "execute_result"
    }
   ],
   "source": [
    "# выполняем понижающее преобразование \n",
    "# для столбцов типа int\n",
    "df_int = df.select_dtypes(include=['int'])\n",
    "converted_int = df_int.apply(pd.to_numeric,downcast='unsigned')\n",
    "\n",
    "print(mem_usage(df_int))\n",
    "print(mem_usage(converted_int))\n",
    "\n",
    "compare_ints = pd.concat([df_int.dtypes,converted_int.dtypes],axis=1)\n",
    "compare_ints.columns = ['before','after']\n",
    "compare_ints.apply(pd.Series.value_counts)"
   ]
  },
  {
   "cell_type": "code",
   "execution_count": 9,
   "metadata": {},
   "outputs": [
    {
     "name": "stdout",
     "output_type": "stream",
     "text": [
      "0.99 KB\n",
      "0.56 KB\n"
     ]
    },
    {
     "data": {
      "text/html": [
       "<div>\n",
       "<style scoped>\n",
       "    .dataframe tbody tr th:only-of-type {\n",
       "        vertical-align: middle;\n",
       "    }\n",
       "\n",
       "    .dataframe tbody tr th {\n",
       "        vertical-align: top;\n",
       "    }\n",
       "\n",
       "    .dataframe thead th {\n",
       "        text-align: right;\n",
       "    }\n",
       "</style>\n",
       "<table border=\"1\" class=\"dataframe\">\n",
       "  <thead>\n",
       "    <tr style=\"text-align: right;\">\n",
       "      <th></th>\n",
       "      <th>before</th>\n",
       "      <th>after</th>\n",
       "    </tr>\n",
       "  </thead>\n",
       "  <tbody>\n",
       "    <tr>\n",
       "      <th>float32</th>\n",
       "      <td>NaN</td>\n",
       "      <td>3.0</td>\n",
       "    </tr>\n",
       "    <tr>\n",
       "      <th>float64</th>\n",
       "      <td>3.0</td>\n",
       "      <td>NaN</td>\n",
       "    </tr>\n",
       "  </tbody>\n",
       "</table>\n",
       "</div>"
      ],
      "text/plain": [
       "         before  after\n",
       "float32     NaN    3.0\n",
       "float64     3.0    NaN"
      ]
     },
     "execution_count": 9,
     "metadata": {},
     "output_type": "execute_result"
    }
   ],
   "source": [
    "# выполняем понижающее преобразование \n",
    "# для столбцов типа float\n",
    "df_float = df.select_dtypes(include=['float'])\n",
    "converted_float = df_float.apply(pd.to_numeric,downcast='float')\n",
    "\n",
    "print(mem_usage(df_float))\n",
    "print(mem_usage(converted_float))\n",
    "\n",
    "compare_floats = pd.concat([df_float.dtypes,converted_float.dtypes],axis=1)\n",
    "compare_floats.columns = ['before','after']\n",
    "compare_floats.apply(pd.Series.value_counts)"
   ]
  },
  {
   "cell_type": "code",
   "execution_count": 10,
   "metadata": {},
   "outputs": [
    {
     "name": "stdout",
     "output_type": "stream",
     "text": [
      "25.96 KB\n",
      "25.42 KB\n"
     ]
    },
    {
     "data": {
      "text/plain": [
       "date            object\n",
       "shopAddress     object\n",
       "shopName        object\n",
       "totalSum       float32\n",
       "filename        object\n",
       "category        object\n",
       "name            object\n",
       "quantity         uint8\n",
       "price          float32\n",
       "sum            float32\n",
       "dtype: object"
      ]
     },
     "execution_count": 10,
     "metadata": {},
     "output_type": "execute_result"
    }
   ],
   "source": [
    "# создаем копию исходного датафрейма\n",
    "optimized_df = df.copy()\n",
    "\n",
    "# заменяем исходные числовые столбцы\n",
    "# оптимизированными\n",
    "optimized_df[converted_int.columns] = converted_int\n",
    "optimized_df[converted_float.columns] = converted_float\n",
    "\n",
    "# смотрим использование памяти\n",
    "print(mem_usage(df))\n",
    "print(mem_usage(optimized_df))\n",
    "optimized_df.dtypes\n"
   ]
  },
  {
   "cell_type": "code",
   "execution_count": 11,
   "metadata": {},
   "outputs": [
    {
     "data": {
      "text/html": [
       "<div>\n",
       "<style scoped>\n",
       "    .dataframe tbody tr th:only-of-type {\n",
       "        vertical-align: middle;\n",
       "    }\n",
       "\n",
       "    .dataframe tbody tr th {\n",
       "        vertical-align: top;\n",
       "    }\n",
       "\n",
       "    .dataframe thead th {\n",
       "        text-align: right;\n",
       "    }\n",
       "</style>\n",
       "<table border=\"1\" class=\"dataframe\">\n",
       "  <thead>\n",
       "    <tr style=\"text-align: right;\">\n",
       "      <th></th>\n",
       "      <th>totalSum</th>\n",
       "      <th>quantity</th>\n",
       "      <th>price</th>\n",
       "      <th>sum</th>\n",
       "    </tr>\n",
       "  </thead>\n",
       "  <tbody>\n",
       "    <tr>\n",
       "      <th>count</th>\n",
       "      <td>37.000000</td>\n",
       "      <td>37.000000</td>\n",
       "      <td>37.000000</td>\n",
       "      <td>37.000000</td>\n",
       "    </tr>\n",
       "    <tr>\n",
       "      <th>mean</th>\n",
       "      <td>4501.621094</td>\n",
       "      <td>1.783784</td>\n",
       "      <td>164.337845</td>\n",
       "      <td>131.351074</td>\n",
       "    </tr>\n",
       "    <tr>\n",
       "      <th>std</th>\n",
       "      <td>720.069153</td>\n",
       "      <td>2.029438</td>\n",
       "      <td>198.418518</td>\n",
       "      <td>112.597816</td>\n",
       "    </tr>\n",
       "    <tr>\n",
       "      <th>min</th>\n",
       "      <td>239.990005</td>\n",
       "      <td>0.000000</td>\n",
       "      <td>3.190000</td>\n",
       "      <td>9.570000</td>\n",
       "    </tr>\n",
       "    <tr>\n",
       "      <th>25%</th>\n",
       "      <td>4620.000000</td>\n",
       "      <td>1.000000</td>\n",
       "      <td>34.990002</td>\n",
       "      <td>61.990002</td>\n",
       "    </tr>\n",
       "    <tr>\n",
       "      <th>50%</th>\n",
       "      <td>4620.000000</td>\n",
       "      <td>1.000000</td>\n",
       "      <td>84.190002</td>\n",
       "      <td>89.089996</td>\n",
       "    </tr>\n",
       "    <tr>\n",
       "      <th>75%</th>\n",
       "      <td>4620.000000</td>\n",
       "      <td>1.000000</td>\n",
       "      <td>198.990005</td>\n",
       "      <td>178.990005</td>\n",
       "    </tr>\n",
       "    <tr>\n",
       "      <th>max</th>\n",
       "      <td>4620.000000</td>\n",
       "      <td>8.000000</td>\n",
       "      <td>774.989990</td>\n",
       "      <td>529.349976</td>\n",
       "    </tr>\n",
       "  </tbody>\n",
       "</table>\n",
       "</div>"
      ],
      "text/plain": [
       "          totalSum   quantity       price         sum\n",
       "count    37.000000  37.000000   37.000000   37.000000\n",
       "mean   4501.621094   1.783784  164.337845  131.351074\n",
       "std     720.069153   2.029438  198.418518  112.597816\n",
       "min     239.990005   0.000000    3.190000    9.570000\n",
       "25%    4620.000000   1.000000   34.990002   61.990002\n",
       "50%    4620.000000   1.000000   84.190002   89.089996\n",
       "75%    4620.000000   1.000000  198.990005  178.990005\n",
       "max    4620.000000   8.000000  774.989990  529.349976"
      ]
     },
     "execution_count": 11,
     "metadata": {},
     "output_type": "execute_result"
    }
   ],
   "source": [
    "optimized_df.describe()"
   ]
  },
  {
   "cell_type": "code",
   "execution_count": 12,
   "metadata": {},
   "outputs": [
    {
     "data": {
      "text/html": [
       "<div>\n",
       "<style scoped>\n",
       "    .dataframe tbody tr th:only-of-type {\n",
       "        vertical-align: middle;\n",
       "    }\n",
       "\n",
       "    .dataframe tbody tr th {\n",
       "        vertical-align: top;\n",
       "    }\n",
       "\n",
       "    .dataframe thead th {\n",
       "        text-align: right;\n",
       "    }\n",
       "</style>\n",
       "<table border=\"1\" class=\"dataframe\">\n",
       "  <thead>\n",
       "    <tr style=\"text-align: right;\">\n",
       "      <th></th>\n",
       "      <th>date</th>\n",
       "      <th>shopAddress</th>\n",
       "      <th>shopName</th>\n",
       "      <th>filename</th>\n",
       "      <th>category</th>\n",
       "      <th>name</th>\n",
       "    </tr>\n",
       "  </thead>\n",
       "  <tbody>\n",
       "    <tr>\n",
       "      <th>count</th>\n",
       "      <td>37</td>\n",
       "      <td>37</td>\n",
       "      <td>37</td>\n",
       "      <td>37</td>\n",
       "      <td>37</td>\n",
       "      <td>37</td>\n",
       "    </tr>\n",
       "    <tr>\n",
       "      <th>unique</th>\n",
       "      <td>2</td>\n",
       "      <td>2</td>\n",
       "      <td>2</td>\n",
       "      <td>2</td>\n",
       "      <td>16</td>\n",
       "      <td>37</td>\n",
       "    </tr>\n",
       "    <tr>\n",
       "      <th>top</th>\n",
       "      <td>02.08.18 14:13</td>\n",
       "      <td>Большая Черемушкинская ул. 1 • Юго-Западный ад...</td>\n",
       "      <td>Лента</td>\n",
       "      <td>t1</td>\n",
       "      <td>Молочные продукты</td>\n",
       "      <td>Д/п пюре ФРУТОНЯНЯ говяд с греч/мор100г</td>\n",
       "    </tr>\n",
       "    <tr>\n",
       "      <th>freq</th>\n",
       "      <td>36</td>\n",
       "      <td>36</td>\n",
       "      <td>36</td>\n",
       "      <td>36</td>\n",
       "      <td>9</td>\n",
       "      <td>1</td>\n",
       "    </tr>\n",
       "  </tbody>\n",
       "</table>\n",
       "</div>"
      ],
      "text/plain": [
       "                  date                                        shopAddress  \\\n",
       "count               37                                                 37   \n",
       "unique               2                                                  2   \n",
       "top     02.08.18 14:13  Большая Черемушкинская ул. 1 • Юго-Западный ад...   \n",
       "freq                36                                                 36   \n",
       "\n",
       "       shopName filename           category  \\\n",
       "count        37       37                 37   \n",
       "unique        2        2                 16   \n",
       "top       Лента       t1  Молочные продукты   \n",
       "freq         36       36                  9   \n",
       "\n",
       "                                           name  \n",
       "count                                        37  \n",
       "unique                                       37  \n",
       "top     Д/п пюре ФРУТОНЯНЯ говяд с греч/мор100г  \n",
       "freq                                          1  "
      ]
     },
     "execution_count": 12,
     "metadata": {},
     "output_type": "execute_result"
    }
   ],
   "source": [
    "# смотрим количество уникальных значений\n",
    "# по каждому столбцу типа object\n",
    "df_obj = optimized_df.select_dtypes(include=['object']).copy()\n",
    "df_obj.describe()"
   ]
  },
  {
   "cell_type": "code",
   "execution_count": 13,
   "metadata": {},
   "outputs": [],
   "source": [
    "converted_obj = pd.DataFrame()\n",
    "\n",
    "# пишем цикл, которой перебирает каждый столбец object, \n",
    "# проверяет его на соответствие заданному порогу \n",
    "# (количество уникальных значений должно быть меньше 50% \n",
    "# от общего количества значений), и если столбец \n",
    "# удовлетворяет порогу, преобразовывает его в тип category\n",
    "for col in df_obj.columns:\n",
    "    num_unique_values = len(df_obj[col].unique())\n",
    "    num_total_values = len(df_obj[col])\n",
    "    if num_unique_values / num_total_values < 0.5:\n",
    "        converted_obj.loc[:,col] = df_obj[col].astype('category')\n",
    "    else:\n",
    "        converted_obj.loc[:,col] = df_obj[col]"
   ]
  },
  {
   "cell_type": "code",
   "execution_count": 14,
   "metadata": {},
   "outputs": [
    {
     "name": "stdout",
     "output_type": "stream",
     "text": [
      "32.61 KB\n",
      "11.65 KB\n"
     ]
    },
    {
     "data": {
      "text/html": [
       "<div>\n",
       "<style scoped>\n",
       "    .dataframe tbody tr th:only-of-type {\n",
       "        vertical-align: middle;\n",
       "    }\n",
       "\n",
       "    .dataframe tbody tr th {\n",
       "        vertical-align: top;\n",
       "    }\n",
       "\n",
       "    .dataframe thead th {\n",
       "        text-align: right;\n",
       "    }\n",
       "</style>\n",
       "<table border=\"1\" class=\"dataframe\">\n",
       "  <thead>\n",
       "    <tr style=\"text-align: right;\">\n",
       "      <th></th>\n",
       "      <th>before</th>\n",
       "      <th>after</th>\n",
       "    </tr>\n",
       "  </thead>\n",
       "  <tbody>\n",
       "    <tr>\n",
       "      <th>object</th>\n",
       "      <td>6.0</td>\n",
       "      <td>1</td>\n",
       "    </tr>\n",
       "    <tr>\n",
       "      <th>category</th>\n",
       "      <td>NaN</td>\n",
       "      <td>1</td>\n",
       "    </tr>\n",
       "    <tr>\n",
       "      <th>category</th>\n",
       "      <td>NaN</td>\n",
       "      <td>1</td>\n",
       "    </tr>\n",
       "    <tr>\n",
       "      <th>category</th>\n",
       "      <td>NaN</td>\n",
       "      <td>1</td>\n",
       "    </tr>\n",
       "    <tr>\n",
       "      <th>category</th>\n",
       "      <td>NaN</td>\n",
       "      <td>1</td>\n",
       "    </tr>\n",
       "    <tr>\n",
       "      <th>category</th>\n",
       "      <td>NaN</td>\n",
       "      <td>1</td>\n",
       "    </tr>\n",
       "  </tbody>\n",
       "</table>\n",
       "</div>"
      ],
      "text/plain": [
       "          before  after\n",
       "object       6.0      1\n",
       "category     NaN      1\n",
       "category     NaN      1\n",
       "category     NaN      1\n",
       "category     NaN      1\n",
       "category     NaN      1"
      ]
     },
     "execution_count": 14,
     "metadata": {},
     "output_type": "execute_result"
    }
   ],
   "source": [
    "# снова применяем функцию mem_usage, смотрим,\n",
    "# сколько памяти занимают все столбцы типа object\n",
    "# до и после преобразования в тип category\n",
    "print(mem_usage(df_obj))\n",
    "print(mem_usage(converted_obj))\n",
    "\n",
    "compare_obj = pd.concat([df_obj.dtypes,converted_obj.dtypes],axis=1)\n",
    "compare_obj.columns = ['before','after']\n",
    "compare_obj.apply(pd.Series.value_counts)"
   ]
  },
  {
   "cell_type": "code",
   "execution_count": 15,
   "metadata": {},
   "outputs": [
    {
     "name": "stdout",
     "output_type": "stream",
     "text": [
      "date           category\n",
      "shopAddress    category\n",
      "shopName       category\n",
      "totalSum        float32\n",
      "filename       category\n",
      "category       category\n",
      "name             object\n",
      "quantity          uint8\n",
      "price           float32\n",
      "sum             float32\n",
      "dtype: object\n",
      "12.12 KB\n"
     ]
    }
   ],
   "source": [
    "# смотрим, сколько памяти использует датафрейм\n",
    "# после оптимизации типов\n",
    "optimized_df[converted_obj.columns] = converted_obj\n",
    "print(optimized_df.dtypes)\n",
    "print(mem_usage(optimized_df))"
   ]
  },
  {
   "cell_type": "code",
   "execution_count": 16,
   "metadata": {},
   "outputs": [
    {
     "name": "stdout",
     "output_type": "stream",
     "text": [
      "0.38 KB\n"
     ]
    },
    {
     "data": {
      "text/plain": [
       "0    02.08.18 14:13\n",
       "1    02.08.18 14:13\n",
       "2    02.08.18 14:13\n",
       "3    02.08.18 14:13\n",
       "4    02.08.18 14:13\n",
       "Name: date, dtype: category\n",
       "Categories (2, object): [02.08.18 14:13, 14.01.20 17:39]"
      ]
     },
     "execution_count": 16,
     "metadata": {},
     "output_type": "execute_result"
    }
   ],
   "source": [
    "# смотрим, сколько памяти использует\n",
    "# столбец date\n",
    "date = optimized_df.date\n",
    "print(mem_usage(date))\n",
    "date.head()"
   ]
  },
  {
   "cell_type": "code",
   "execution_count": 17,
   "metadata": {},
   "outputs": [
    {
     "name": "stdout",
     "output_type": "stream",
     "text": [
      "12.15 KB\n"
     ]
    }
   ],
   "source": [
    "# преобразуем столбец \n",
    "# date в тип datetime \n",
    "optimized_df['date'] = pd.to_datetime(date,format='%d.%m.%y %H:%M')\n",
    "\n",
    "# смотрим, сколько памяти использует\n",
    "# столбец date\n",
    "print(mem_usage(optimized_df))"
   ]
  },
  {
   "cell_type": "code",
   "execution_count": 18,
   "metadata": {},
   "outputs": [
    {
     "name": "stdout",
     "output_type": "stream",
     "text": [
      "{   'category': 'category',\n",
      "    'filename': 'category',\n",
      "    'name': 'object',\n",
      "    'price': 'float32',\n",
      "    'quantity': 'uint8',\n",
      "    'shopAddress': 'category',\n",
      "    'shopName': 'category',\n",
      "    'sum': 'float32',\n",
      "    'totalSum': 'float32'}\n"
     ]
    }
   ],
   "source": [
    "# создаем словарь, в котором ключами будут имена\n",
    "# столбцов, а значениями - типы столбцов\n",
    "dtypes = optimized_df.drop('date',axis=1).dtypes\n",
    "\n",
    "dtypes_col = dtypes.index\n",
    "dtypes_type = [i.name for i in dtypes.values]\n",
    "\n",
    "column_types = dict(zip(dtypes_col, dtypes_type))\n",
    "\n",
    "import pprint\n",
    "pp = pp = pprint.PrettyPrinter(indent=4)\n",
    "pp.pprint(column_types)"
   ]
  },
  {
   "cell_type": "code",
   "execution_count": 19,
   "metadata": {},
   "outputs": [
    {
     "name": "stdout",
     "output_type": "stream",
     "text": [
      "33.62 KB\n",
      "12.15 KB\n"
     ]
    }
   ],
   "source": [
    "print(mem_usage(df))\n",
    "print(mem_usage(optimized_df))"
   ]
  },
  {
   "cell_type": "code",
   "execution_count": 20,
   "metadata": {},
   "outputs": [
    {
     "data": {
      "text/plain": [
       "date           datetime64[ns]\n",
       "shopAddress          category\n",
       "shopName             category\n",
       "totalSum              float32\n",
       "filename             category\n",
       "category             category\n",
       "name                   object\n",
       "quantity                uint8\n",
       "price                 float32\n",
       "sum                   float32\n",
       "dtype: object"
      ]
     },
     "execution_count": 20,
     "metadata": {},
     "output_type": "execute_result"
    }
   ],
   "source": [
    "optimized_df.dtypes"
   ]
  },
  {
   "cell_type": "code",
   "execution_count": 21,
   "metadata": {},
   "outputs": [],
   "source": [
    "import pyreadstat"
   ]
  },
  {
   "cell_type": "code",
   "execution_count": 33,
   "metadata": {},
   "outputs": [
    {
     "ename": "ReadstatError",
     "evalue": "A provided string value was longer than the available storage size of the specified column",
     "output_type": "error",
     "traceback": [
      "\u001b[1;31m---------------------------------------------------------------------------\u001b[0m",
      "\u001b[1;31mReadstatError\u001b[0m                             Traceback (most recent call last)",
      "\u001b[1;32m<ipython-input-33-1b623551ae71>\u001b[0m in \u001b[0;36m<module>\u001b[1;34m\u001b[0m\n\u001b[1;32m----> 1\u001b[1;33m \u001b[0mpyreadstat\u001b[0m\u001b[1;33m.\u001b[0m\u001b[0mwrite_sav\u001b[0m\u001b[1;33m(\u001b[0m\u001b[0moptimized_df\u001b[0m\u001b[1;33m.\u001b[0m\u001b[0mdrop\u001b[0m\u001b[1;33m(\u001b[0m\u001b[1;33m[\u001b[0m\u001b[1;34m\"name\"\u001b[0m\u001b[1;33m,\u001b[0m\u001b[1;34m\"date\"\u001b[0m\u001b[1;33m]\u001b[0m\u001b[1;33m,\u001b[0m \u001b[0maxis\u001b[0m\u001b[1;33m=\u001b[0m\u001b[1;36m1\u001b[0m\u001b[1;33m)\u001b[0m\u001b[1;33m,\u001b[0m \u001b[1;34mr\"O:\\Progs\\Python\\jsonToSav\\data\\spss1.sav\"\u001b[0m\u001b[1;33m)\u001b[0m\u001b[1;33m\u001b[0m\u001b[1;33m\u001b[0m\u001b[0m\n\u001b[0m",
      "\u001b[1;32mpyreadstat\\pyreadstat.pyx\u001b[0m in \u001b[0;36mpyreadstat.pyreadstat.write_sav\u001b[1;34m()\u001b[0m\n",
      "\u001b[1;32mpyreadstat\\_readstat_writer.pyx\u001b[0m in \u001b[0;36mpyreadstat._readstat_writer.run_write\u001b[1;34m()\u001b[0m\n",
      "\u001b[1;32mpyreadstat\\_readstat_writer.pyx\u001b[0m in \u001b[0;36mpyreadstat._readstat_writer.run_write\u001b[1;34m()\u001b[0m\n",
      "\u001b[1;32mpyreadstat\\_readstat_parser.pyx\u001b[0m in \u001b[0;36mpyreadstat._readstat_parser.check_exit_status\u001b[1;34m()\u001b[0m\n",
      "\u001b[1;31mReadstatError\u001b[0m: A provided string value was longer than the available storage size of the specified column"
     ]
    }
   ],
   "source": [
    "pyreadstat.write_sav(optimized_df.drop([\"name\",\"date\"], axis=1), r\"O:\\Progs\\Python\\jsonToSav\\data\\spss1.sav\")"
   ]
  },
  {
   "cell_type": "code",
   "execution_count": 23,
   "metadata": {},
   "outputs": [],
   "source": [
    "pyreadstat.write_sav(df, r\"O:\\Progs\\Python\\jsonToSav\\data\\spss1_df.sav\")"
   ]
  },
  {
   "cell_type": "code",
   "execution_count": 41,
   "metadata": {},
   "outputs": [],
   "source": [
    "import savReaderWriter as srw\n",
    "# records = optimized_df.drop([\"name\",\"date\"], axis=1).values.tolist()\n",
    "records = optimized_df.values.tolist()"
   ]
  },
  {
   "cell_type": "code",
   "execution_count": 45,
   "metadata": {},
   "outputs": [
    {
     "data": {
      "text/plain": [
       "{'date': 0,\n",
       " 'shopAddress': 0,\n",
       " 'shopName': 0,\n",
       " 'totalSum': 0,\n",
       " 'filename': 0,\n",
       " 'category': 0,\n",
       " 'name': 1024,\n",
       " 'quantity': 0,\n",
       " 'price': 0,\n",
       " 'sum': 0}"
      ]
     },
     "execution_count": 45,
     "metadata": {},
     "output_type": "execute_result"
    }
   ],
   "source": [
    "varTypes = {}\n",
    "for col in optimized_df.columns:\n",
    "    if str(optimized_df[col].dtype) == 'object':\n",
    "        varTypes[col] = 1024\n",
    "    elif 'date' in str(optimized_df[col].dtype):\n",
    "        varTypes[col] = 0\n",
    "    else:\n",
    "        varTypes[col] = 0\n",
    "\n",
    "varTypes\n",
    "# del varTypes['name']\n",
    "# del varTypes['date']\n",
    "#varTypes"
   ]
  },
  {
   "cell_type": "code",
   "execution_count": 46,
   "metadata": {},
   "outputs": [
    {
     "data": {
      "text/plain": [
       "['date',\n",
       " 'shopAddress',\n",
       " 'shopName',\n",
       " 'totalSum',\n",
       " 'filename',\n",
       " 'category',\n",
       " 'name',\n",
       " 'quantity',\n",
       " 'price',\n",
       " 'sum']"
      ]
     },
     "execution_count": 46,
     "metadata": {},
     "output_type": "execute_result"
    }
   ],
   "source": [
    "colsSave = list(optimized_df.columns)\n",
    "colsSave\n",
    "# colsSave.remove('name')\n",
    "# colsSave.remove('date')\n",
    "# colsSave"
   ]
  },
  {
   "cell_type": "code",
   "execution_count": 47,
   "metadata": {},
   "outputs": [
    {
     "ename": "TypeError",
     "evalue": "unsupported operand type(s) for +=: 'error' and 'str'",
     "output_type": "error",
     "traceback": [
      "\u001b[1;31m---------------------------------------------------------------------------\u001b[0m",
      "\u001b[1;31merror\u001b[0m                                     Traceback (most recent call last)",
      "\u001b[1;32mF:\\Inst\\Miniconda3\\lib\\site-packages\\savReaderWriter\\generic.py\u001b[0m in \u001b[0;36mrecord\u001b[1;34m(self, record)\u001b[0m\n\u001b[0;32m    535\u001b[0m         \u001b[1;32mtry\u001b[0m\u001b[1;33m:\u001b[0m\u001b[1;33m\u001b[0m\u001b[1;33m\u001b[0m\u001b[0m\n\u001b[1;32m--> 536\u001b[1;33m             \u001b[0mself\u001b[0m\u001b[1;33m.\u001b[0m\u001b[0mpack_into\u001b[0m\u001b[1;33m(\u001b[0m\u001b[0mself\u001b[0m\u001b[1;33m.\u001b[0m\u001b[0mcaseBuffer\u001b[0m\u001b[1;33m,\u001b[0m \u001b[1;36m0\u001b[0m\u001b[1;33m,\u001b[0m \u001b[1;33m*\u001b[0m\u001b[0mrecord\u001b[0m\u001b[1;33m)\u001b[0m\u001b[1;33m\u001b[0m\u001b[1;33m\u001b[0m\u001b[0m\n\u001b[0m\u001b[0;32m    537\u001b[0m         \u001b[1;32mexcept\u001b[0m \u001b[0mstruct\u001b[0m\u001b[1;33m.\u001b[0m\u001b[0merror\u001b[0m\u001b[1;33m:\u001b[0m\u001b[1;33m\u001b[0m\u001b[1;33m\u001b[0m\u001b[0m\n",
      "\u001b[1;31merror\u001b[0m: argument for 's' must be a bytes object",
      "\nDuring handling of the above exception, another exception occurred:\n",
      "\u001b[1;31mTypeError\u001b[0m                                 Traceback (most recent call last)",
      "\u001b[1;32m<ipython-input-47-12e41cc030d8>\u001b[0m in \u001b[0;36m<module>\u001b[1;34m\u001b[0m\n\u001b[0;32m      1\u001b[0m \u001b[1;32mwith\u001b[0m \u001b[0msrw\u001b[0m\u001b[1;33m.\u001b[0m\u001b[0mSavWriter\u001b[0m\u001b[1;33m(\u001b[0m\u001b[1;34mr\"O:\\Progs\\Python\\jsonToSav\\data\\spss.sav\"\u001b[0m\u001b[1;33m,\u001b[0m \u001b[0mcolsSave\u001b[0m\u001b[1;33m,\u001b[0m \u001b[0mvarTypes\u001b[0m\u001b[1;33m)\u001b[0m \u001b[1;32mas\u001b[0m \u001b[0mwriter\u001b[0m\u001b[1;33m:\u001b[0m\u001b[1;33m\u001b[0m\u001b[1;33m\u001b[0m\u001b[0m\n\u001b[0;32m      2\u001b[0m     \u001b[1;32mfor\u001b[0m \u001b[0mrecord\u001b[0m \u001b[1;32min\u001b[0m \u001b[0mrecords\u001b[0m\u001b[1;33m:\u001b[0m\u001b[1;33m\u001b[0m\u001b[1;33m\u001b[0m\u001b[0m\n\u001b[1;32m----> 3\u001b[1;33m         \u001b[0mwriter\u001b[0m\u001b[1;33m.\u001b[0m\u001b[0mwriterow\u001b[0m\u001b[1;33m(\u001b[0m\u001b[0mrecord\u001b[0m\u001b[1;33m)\u001b[0m\u001b[1;33m\u001b[0m\u001b[1;33m\u001b[0m\u001b[0m\n\u001b[0m",
      "\u001b[1;32mF:\\Inst\\Miniconda3\\lib\\site-packages\\savReaderWriter\\savWriter.py\u001b[0m in \u001b[0;36mwriterow\u001b[1;34m(self, record)\u001b[0m\n\u001b[0;32m    385\u001b[0m             \u001b[0mcWriterow\u001b[0m\u001b[1;33m(\u001b[0m\u001b[0mself\u001b[0m\u001b[1;33m,\u001b[0m \u001b[0mrecord\u001b[0m\u001b[1;33m)\u001b[0m\u001b[1;33m\u001b[0m\u001b[1;33m\u001b[0m\u001b[0m\n\u001b[0;32m    386\u001b[0m             \u001b[1;32mreturn\u001b[0m\u001b[1;33m\u001b[0m\u001b[1;33m\u001b[0m\u001b[0m\n\u001b[1;32m--> 387\u001b[1;33m         \u001b[0mself\u001b[0m\u001b[1;33m.\u001b[0m\u001b[0m_pyWriterow\u001b[0m\u001b[1;33m(\u001b[0m\u001b[0mrecord\u001b[0m\u001b[1;33m)\u001b[0m\u001b[1;33m\u001b[0m\u001b[1;33m\u001b[0m\u001b[0m\n\u001b[0m\u001b[0;32m    388\u001b[0m \u001b[1;33m\u001b[0m\u001b[0m\n\u001b[0;32m    389\u001b[0m     \u001b[1;32mdef\u001b[0m \u001b[0mwriterows\u001b[0m\u001b[1;33m(\u001b[0m\u001b[0mself\u001b[0m\u001b[1;33m,\u001b[0m \u001b[0mrecords\u001b[0m\u001b[1;33m)\u001b[0m\u001b[1;33m:\u001b[0m\u001b[1;33m\u001b[0m\u001b[1;33m\u001b[0m\u001b[0m\n",
      "\u001b[1;32mF:\\Inst\\Miniconda3\\lib\\site-packages\\savReaderWriter\\savWriter.py\u001b[0m in \u001b[0;36m_pyWriterow\u001b[1;34m(self, record)\u001b[0m\n\u001b[0;32m    378\u001b[0m                     \u001b[0mvalue\u001b[0m \u001b[1;33m=\u001b[0m \u001b[0mvalue\u001b[0m\u001b[1;33m.\u001b[0m\u001b[0mencode\u001b[0m\u001b[1;33m(\u001b[0m\u001b[1;34m\"utf-8\"\u001b[0m\u001b[1;33m)\u001b[0m\u001b[1;33m\u001b[0m\u001b[1;33m\u001b[0m\u001b[0m\n\u001b[0;32m    379\u001b[0m             \u001b[0mrecord\u001b[0m\u001b[1;33m[\u001b[0m\u001b[0mi\u001b[0m\u001b[1;33m]\u001b[0m \u001b[1;33m=\u001b[0m \u001b[0mvalue\u001b[0m\u001b[1;33m\u001b[0m\u001b[1;33m\u001b[0m\u001b[0m\n\u001b[1;32m--> 380\u001b[1;33m         \u001b[0mself\u001b[0m\u001b[1;33m.\u001b[0m\u001b[0mrecord\u001b[0m \u001b[1;33m=\u001b[0m \u001b[0mrecord\u001b[0m\u001b[1;33m\u001b[0m\u001b[1;33m\u001b[0m\u001b[0m\n\u001b[0m\u001b[0;32m    381\u001b[0m \u001b[1;33m\u001b[0m\u001b[0m\n\u001b[0;32m    382\u001b[0m     \u001b[1;32mdef\u001b[0m \u001b[0mwriterow\u001b[0m\u001b[1;33m(\u001b[0m\u001b[0mself\u001b[0m\u001b[1;33m,\u001b[0m \u001b[0mrecord\u001b[0m\u001b[1;33m)\u001b[0m\u001b[1;33m:\u001b[0m\u001b[1;33m\u001b[0m\u001b[1;33m\u001b[0m\u001b[0m\n",
      "\u001b[1;32mF:\\Inst\\Miniconda3\\lib\\site-packages\\savReaderWriter\\generic.py\u001b[0m in \u001b[0;36mrecord\u001b[1;34m(self, record)\u001b[0m\n\u001b[0;32m    538\u001b[0m             \u001b[0mmsg\u001b[0m \u001b[1;33m=\u001b[0m \u001b[0msys\u001b[0m\u001b[1;33m.\u001b[0m\u001b[0mexc_info\u001b[0m\u001b[1;33m(\u001b[0m\u001b[1;33m)\u001b[0m\u001b[1;33m[\u001b[0m\u001b[1;36m1\u001b[0m\u001b[1;33m]\u001b[0m\u001b[1;33m\u001b[0m\u001b[1;33m\u001b[0m\u001b[0m\n\u001b[0;32m    539\u001b[0m             \u001b[1;32mif\u001b[0m \u001b[0many\u001b[0m\u001b[1;33m(\u001b[0m\u001b[1;33m[\u001b[0m\u001b[0misinstance\u001b[0m\u001b[1;33m(\u001b[0m\u001b[0mvalue\u001b[0m\u001b[1;33m,\u001b[0m \u001b[0municode\u001b[0m\u001b[1;33m)\u001b[0m \u001b[1;32mfor\u001b[0m \u001b[0mvalue\u001b[0m \u001b[1;32min\u001b[0m \u001b[0mrecord\u001b[0m\u001b[1;33m]\u001b[0m\u001b[1;33m)\u001b[0m\u001b[1;33m:\u001b[0m\u001b[1;33m\u001b[0m\u001b[1;33m\u001b[0m\u001b[0m\n\u001b[1;32m--> 540\u001b[1;33m                 \u001b[0mmsg\u001b[0m \u001b[1;33m+=\u001b[0m  \u001b[1;34m\". Use ioUtf8=True to write unicode strings\"\u001b[0m\u001b[1;33m\u001b[0m\u001b[1;33m\u001b[0m\u001b[0m\n\u001b[0m\u001b[0;32m    541\u001b[0m             \u001b[1;32mraise\u001b[0m \u001b[0mTypeError\u001b[0m\u001b[1;33m(\u001b[0m\u001b[0mmsg\u001b[0m\u001b[1;33m)\u001b[0m\u001b[1;33m\u001b[0m\u001b[1;33m\u001b[0m\u001b[0m\n\u001b[0;32m    542\u001b[0m         \u001b[0mself\u001b[0m\u001b[1;33m.\u001b[0m\u001b[0mwholeCaseOut\u001b[0m\u001b[1;33m.\u001b[0m\u001b[0margtypes\u001b[0m \u001b[1;33m=\u001b[0m \u001b[1;33m[\u001b[0m\u001b[0mc_int\u001b[0m\u001b[1;33m,\u001b[0m \u001b[0mc_char_p\u001b[0m\u001b[1;33m]\u001b[0m\u001b[1;33m\u001b[0m\u001b[1;33m\u001b[0m\u001b[0m\n",
      "\u001b[1;31mTypeError\u001b[0m: unsupported operand type(s) for +=: 'error' and 'str'"
     ]
    }
   ],
   "source": [
    "with srw.SavWriter(r\"O:\\Progs\\Python\\jsonToSav\\data\\spss.sav\", colsSave, varTypes) as writer:\n",
    "    for record in records:\n",
    "        writer.writerow(record)"
   ]
  },
  {
   "cell_type": "code",
   "execution_count": 48,
   "metadata": {},
   "outputs": [
    {
     "data": {
      "text/plain": [
       "{'shopAddress': {0: 'Большая Черемушкинская ул. 1 •',\n",
       "  1: 'Новосибирская ул. 26 • Пермь'},\n",
       " 'shopName': {0: 'Красное & Белое', 1: 'Лента'},\n",
       " 'filename': {0: 't1', 1: 't2'},\n",
       " 'category': {0: 'Алкоголь',\n",
       "  1: 'Бакалея',\n",
       "  2: 'Гастрономия',\n",
       "  3: 'Дети',\n",
       "  4: 'Для дома',\n",
       "  5: 'Здоровье',\n",
       "  6: 'Косметика',\n",
       "  7: 'Кулинария',\n",
       "  8: 'Молочные продукты',\n",
       "  9: 'Мясо и птица',\n",
       "  10: 'Напитки',\n",
       "  11: 'Овощи и фрукты',\n",
       "  12: 'Рыба',\n",
       "  13: 'Снеки',\n",
       "  14: 'Упаковка',\n",
       "  15: 'Хлеб'}}"
      ]
     },
     "execution_count": 48,
     "metadata": {},
     "output_type": "execute_result"
    }
   ],
   "source": [
    "vals = {}\n",
    "for col in optimized_df.columns:\n",
    "    if str(optimized_df[col].dtype) == 'category':\n",
    "        optimized_df[col].cat.categories = [x[:30] for x in optimized_df[col].cat.categories]\n",
    "        vals[col] = {i:x[:30] for i, x in enumerate(optimized_df[col].cat.categories)}\n",
    "vals"
   ]
  },
  {
   "cell_type": "code",
   "execution_count": 49,
   "metadata": {},
   "outputs": [],
   "source": [
    "optimized_df.to_csv(r\"O:\\Progs\\Python\\jsonToSav\\data\\odf.txt\", sep=\"\\t\", index=False)"
   ]
  },
  {
   "cell_type": "code",
   "execution_count": 51,
   "metadata": {},
   "outputs": [
    {
     "data": {
      "text/plain": [
       "'02.08.18 14:13'"
      ]
     },
     "execution_count": 51,
     "metadata": {},
     "output_type": "execute_result"
    }
   ],
   "source": [
    "s = \"02.08.18 14:13\"\n",
    "s"
   ]
  },
  {
   "cell_type": "code",
   "execution_count": 54,
   "metadata": {},
   "outputs": [
    {
     "data": {
      "text/plain": [
       "b'02.08.18 14:13'"
      ]
     },
     "execution_count": 54,
     "metadata": {},
     "output_type": "execute_result"
    }
   ],
   "source": [
    "b = s.encode()\n",
    "b"
   ]
  },
  {
   "cell_type": "code",
   "execution_count": 58,
   "metadata": {},
   "outputs": [
    {
     "data": {
      "text/html": [
       "<div>\n",
       "<style scoped>\n",
       "    .dataframe tbody tr th:only-of-type {\n",
       "        vertical-align: middle;\n",
       "    }\n",
       "\n",
       "    .dataframe tbody tr th {\n",
       "        vertical-align: top;\n",
       "    }\n",
       "\n",
       "    .dataframe thead th {\n",
       "        text-align: right;\n",
       "    }\n",
       "</style>\n",
       "<table border=\"1\" class=\"dataframe\">\n",
       "  <thead>\n",
       "    <tr style=\"text-align: right;\">\n",
       "      <th></th>\n",
       "      <th>date</th>\n",
       "      <th>shopAddress</th>\n",
       "      <th>shopName</th>\n",
       "      <th>totalSum</th>\n",
       "      <th>filename</th>\n",
       "      <th>category</th>\n",
       "      <th>name</th>\n",
       "      <th>quantity</th>\n",
       "      <th>price</th>\n",
       "      <th>sum</th>\n",
       "      <th>dateB</th>\n",
       "    </tr>\n",
       "  </thead>\n",
       "  <tbody>\n",
       "    <tr>\n",
       "      <th>0</th>\n",
       "      <td>2018-08-02 14:13:00</td>\n",
       "      <td>Большая Черемушкинская ул. 1 •</td>\n",
       "      <td>Лента</td>\n",
       "      <td>4620.0</td>\n",
       "      <td>t1</td>\n",
       "      <td>Дети</td>\n",
       "      <td>Д/п вода ФРУТОНЯНЯ детск пит артез 330мл</td>\n",
       "      <td>4</td>\n",
       "      <td>21.990000</td>\n",
       "      <td>87.959999</td>\n",
       "      <td>2018-08-02 14:13:00</td>\n",
       "    </tr>\n",
       "    <tr>\n",
       "      <th>1</th>\n",
       "      <td>2018-08-02 14:13:00</td>\n",
       "      <td>Большая Черемушкинская ул. 1 •</td>\n",
       "      <td>Лента</td>\n",
       "      <td>4620.0</td>\n",
       "      <td>t1</td>\n",
       "      <td>Дети</td>\n",
       "      <td>Ж/МЫЛО AQA BABY Д/МАЛЫША С ДОЗАТ 300МЛ</td>\n",
       "      <td>1</td>\n",
       "      <td>94.989998</td>\n",
       "      <td>94.989998</td>\n",
       "      <td>2018-08-02 14:13:00</td>\n",
       "    </tr>\n",
       "    <tr>\n",
       "      <th>2</th>\n",
       "      <td>2018-08-02 14:13:00</td>\n",
       "      <td>Большая Черемушкинская ул. 1 •</td>\n",
       "      <td>Лента</td>\n",
       "      <td>4620.0</td>\n",
       "      <td>t1</td>\n",
       "      <td>Дети</td>\n",
       "      <td>Кефир АГУША детский 3,2% ТВА 204г</td>\n",
       "      <td>3</td>\n",
       "      <td>23.990000</td>\n",
       "      <td>71.970001</td>\n",
       "      <td>2018-08-02 14:13:00</td>\n",
       "    </tr>\n",
       "    <tr>\n",
       "      <th>3</th>\n",
       "      <td>2018-08-02 14:13:00</td>\n",
       "      <td>Большая Черемушкинская ул. 1 •</td>\n",
       "      <td>Лента</td>\n",
       "      <td>4620.0</td>\n",
       "      <td>t1</td>\n",
       "      <td>Дети</td>\n",
       "      <td>Д/п пюре ФРУТОНЯНЯ говяд с греч/мор100г</td>\n",
       "      <td>3</td>\n",
       "      <td>45.889999</td>\n",
       "      <td>137.669998</td>\n",
       "      <td>2018-08-02 14:13:00</td>\n",
       "    </tr>\n",
       "    <tr>\n",
       "      <th>4</th>\n",
       "      <td>2018-08-02 14:13:00</td>\n",
       "      <td>Большая Черемушкинская ул. 1 •</td>\n",
       "      <td>Лента</td>\n",
       "      <td>4620.0</td>\n",
       "      <td>t1</td>\n",
       "      <td>Дети</td>\n",
       "      <td>Йогурт АГУША пит натурал 3,1% бут 200г</td>\n",
       "      <td>8</td>\n",
       "      <td>36.790001</td>\n",
       "      <td>294.320007</td>\n",
       "      <td>2018-08-02 14:13:00</td>\n",
       "    </tr>\n",
       "  </tbody>\n",
       "</table>\n",
       "</div>"
      ],
      "text/plain": [
       "                 date                     shopAddress shopName  totalSum  \\\n",
       "0 2018-08-02 14:13:00  Большая Черемушкинская ул. 1 •    Лента    4620.0   \n",
       "1 2018-08-02 14:13:00  Большая Черемушкинская ул. 1 •    Лента    4620.0   \n",
       "2 2018-08-02 14:13:00  Большая Черемушкинская ул. 1 •    Лента    4620.0   \n",
       "3 2018-08-02 14:13:00  Большая Черемушкинская ул. 1 •    Лента    4620.0   \n",
       "4 2018-08-02 14:13:00  Большая Черемушкинская ул. 1 •    Лента    4620.0   \n",
       "\n",
       "  filename category                                      name  quantity  \\\n",
       "0       t1     Дети  Д/п вода ФРУТОНЯНЯ детск пит артез 330мл         4   \n",
       "1       t1     Дети    Ж/МЫЛО AQA BABY Д/МАЛЫША С ДОЗАТ 300МЛ         1   \n",
       "2       t1     Дети         Кефир АГУША детский 3,2% ТВА 204г         3   \n",
       "3       t1     Дети   Д/п пюре ФРУТОНЯНЯ говяд с греч/мор100г         3   \n",
       "4       t1     Дети    Йогурт АГУША пит натурал 3,1% бут 200г         8   \n",
       "\n",
       "       price         sum                dateB  \n",
       "0  21.990000   87.959999  2018-08-02 14:13:00  \n",
       "1  94.989998   94.989998  2018-08-02 14:13:00  \n",
       "2  23.990000   71.970001  2018-08-02 14:13:00  \n",
       "3  45.889999  137.669998  2018-08-02 14:13:00  \n",
       "4  36.790001  294.320007  2018-08-02 14:13:00  "
      ]
     },
     "execution_count": 58,
     "metadata": {},
     "output_type": "execute_result"
    }
   ],
   "source": [
    "optimized_df['dateB'] = optimized_df['date'].astype('str')\n",
    "optimized_df.head()"
   ]
  },
  {
   "cell_type": "code",
   "execution_count": 59,
   "metadata": {},
   "outputs": [
    {
     "data": {
      "text/plain": [
       "date           datetime64[ns]\n",
       "shopAddress          category\n",
       "shopName             category\n",
       "totalSum              float32\n",
       "filename             category\n",
       "category             category\n",
       "name                   object\n",
       "quantity                uint8\n",
       "price                 float32\n",
       "sum                   float32\n",
       "dateB                  object\n",
       "dtype: object"
      ]
     },
     "execution_count": 59,
     "metadata": {},
     "output_type": "execute_result"
    }
   ],
   "source": [
    "optimized_df.dtypes"
   ]
  }
 ],
 "metadata": {
  "kernelspec": {
   "display_name": "Python 3",
   "language": "python",
   "name": "python3"
  },
  "language_info": {
   "codemirror_mode": {
    "name": "ipython",
    "version": 3
   },
   "file_extension": ".py",
   "mimetype": "text/x-python",
   "name": "python",
   "nbconvert_exporter": "python",
   "pygments_lexer": "ipython3",
   "version": "3.7.4"
  }
 },
 "nbformat": 4,
 "nbformat_minor": 2
}
